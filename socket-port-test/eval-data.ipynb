{
 "cells": [
  {
   "cell_type": "code",
   "execution_count": 1,
   "metadata": {},
   "outputs": [],
   "source": [
    "import json\n",
    "import pandas as pd"
   ]
  },
  {
   "cell_type": "code",
   "execution_count": 8,
   "metadata": {},
   "outputs": [],
   "source": [
    "with open('data-02.json') as f:\n",
    "    data = json.load(f)"
   ]
  },
  {
   "cell_type": "code",
   "execution_count": 16,
   "metadata": {},
   "outputs": [],
   "source": [
    "with open('/etc/services') as f:\n",
    "    port_info = f.read()"
   ]
  },
  {
   "cell_type": "code",
   "execution_count": 17,
   "metadata": {},
   "outputs": [
    {
     "data": {
      "text/plain": [
       "\"# Network services, Internet style\\n#\\n# Note that it is presently the policy of IANA to assign a single well-known\\n# port number for both TCP and UDP; hence, officially ports have two entries\\n# even if the protocol doesn't support UDP operations.\\n#\\n# Updated from https://www.iana.org/assignments/service-names-port-numbers/service-names-port-numbers.xhtml .\\n#\\n# New ports will be added on request if they have been officially assigned\\n# by IANA and used in the real-world or are needed by a debian package.\\n# If you need a huge list of used numbers please install the nmap package.\\n\\ntcpmux\\t\\t1/tcp\\t\\t\\t\\t# TCP port service multiplexer\\necho\\t\\t7/tcp\\necho\\t\\t7/udp\\ndiscard\\t\\t9/tcp\\t\\tsink null\\ndiscard\\t\\t9/udp\\t\\tsink null\\nsystat\\t\\t11/tcp\\t\\tusers\\ndaytime\\t\\t13/tcp\\ndaytime\\t\\t13/udp\\nnetstat\\t\\t15/tcp\\nqotd\\t\\t17/tcp\\t\\tquote\\nchargen\\t\\t19/tcp\\t\\tttytst source\\nchargen\\t\\t19/udp\\t\\tttytst source\\nftp-data\\t20/tcp\\nftp\\t\\t21/tcp\\nfsp\\t\\t21/udp\\t\\tfspd\\nssh\\t\\t22/tcp\\t\\t\\t\\t# SSH Remote Login Protocol\\ntelnet\\t\\t23/tcp\\nsmtp\\t\\t25/tcp\\t\\tmail\\ntime\\t\\t37/tcp\\t\\ttimserver\\ntime\\t\\t37/udp\\t\\ttimserver\\nwhois\\t\\t43/tcp\\t\\tnicname\\ntacacs\\t\\t49/tcp\\t\\t\\t\\t# Login Host Protocol (TACACS)\\ntacacs\\t\\t49/udp\\ndomain\\t\\t53/tcp\\t\\t\\t\\t# Domain Name Server\\ndomain\\t\\t53/udp\\nbootps\\t\\t67/udp\\nbootpc\\t\\t68/udp\\ntftp\\t\\t69/udp\\ngopher\\t\\t70/tcp\\t\\t\\t\\t# Internet Gopher\\nfinger\\t\\t79/tcp\\nhttp\\t\\t80/tcp\\t\\twww\\t\\t# WorldWideWeb HTTP\\nkerberos\\t88/tcp\\t\\tkerberos5 krb5 kerberos-sec\\t# Kerberos v5\\nkerberos\\t88/udp\\t\\tkerberos5 krb5 kerberos-sec\\t# Kerberos v5\\niso-tsap\\t102/tcp\\t\\ttsap\\t\\t# part of ISODE\\nacr-nema\\t104/tcp\\t\\tdicom\\t\\t# Digital Imag. & Comm. 300\\npop3\\t\\t110/tcp\\t\\tpop-3\\t\\t# POP version 3\\nsunrpc\\t\\t111/tcp\\t\\tportmapper\\t# RPC 4.0 portmapper\\nsunrpc\\t\\t111/udp\\t\\tportmapper\\nauth\\t\\t113/tcp\\t\\tauthentication tap ident\\nnntp\\t\\t119/tcp\\t\\treadnews untp\\t# USENET News Transfer Protocol\\nntp\\t\\t123/udp\\t\\t\\t\\t# Network Time Protocol\\nepmap\\t\\t135/tcp\\t\\tloc-srv\\t\\t# DCE endpoint resolution\\nnetbios-ns\\t137/tcp\\t\\t\\t\\t# NETBIOS Name Service\\nnetbios-ns\\t137/udp\\nnetbios-dgm\\t138/tcp\\t\\t\\t\\t# NETBIOS Datagram Service\\nnetbios-dgm\\t138/udp\\nnetbios-ssn\\t139/tcp\\t\\t\\t\\t# NETBIOS session service\\nnetbios-ssn\\t139/udp\\nimap2\\t\\t143/tcp\\t\\timap\\t\\t# Interim Mail Access P 2 and 4\\nsnmp\\t\\t161/tcp\\t\\t\\t\\t# Simple Net Mgmt Protocol\\nsnmp\\t\\t161/udp\\nsnmp-trap\\t162/tcp\\t\\tsnmptrap\\t# Traps for SNMP\\nsnmp-trap\\t162/udp\\t\\tsnmptrap\\ncmip-man\\t163/tcp\\t\\t\\t\\t# ISO mgmt over IP (CMOT)\\ncmip-man\\t163/udp\\ncmip-agent\\t164/tcp\\ncmip-agent\\t164/udp\\nmailq\\t\\t174/tcp\\t\\t\\t# Mailer transport queue for Zmailer\\nxdmcp\\t\\t177/udp\\t\\t\\t# X Display Manager Control Protocol\\nbgp\\t\\t179/tcp\\t\\t\\t\\t# Border Gateway Protocol\\nsmux\\t\\t199/tcp\\t\\t\\t\\t# SNMP Unix Multiplexer\\nqmtp\\t\\t209/tcp\\t\\t\\t\\t# Quick Mail Transfer Protocol\\nz3950\\t\\t210/tcp\\t\\twais\\t\\t# NISO Z39.50 database\\nipx\\t\\t213/udp\\t\\t\\t\\t# IPX [RFC1234]\\nptp-event\\t319/udp\\nptp-general\\t320/udp\\npawserv\\t\\t345/tcp\\t\\t\\t\\t# Perf Analysis Workbench\\nzserv\\t\\t346/tcp\\t\\t\\t\\t# Zebra server\\nrpc2portmap\\t369/tcp\\nrpc2portmap\\t369/udp\\t\\t\\t\\t# Coda portmapper\\ncodaauth2\\t370/tcp\\ncodaauth2\\t370/udp\\t\\t\\t\\t# Coda authentication server\\nclearcase\\t371/udp\\t\\tClearcase\\nldap\\t\\t389/tcp\\t\\t\\t# Lightweight Directory Access Protocol\\nldap\\t\\t389/udp\\nsvrloc\\t\\t427/tcp\\t\\t\\t\\t# Server Location\\nsvrloc\\t\\t427/udp\\nhttps\\t\\t443/tcp\\t\\t\\t\\t# http protocol over TLS/SSL\\nsnpp\\t\\t444/tcp\\t\\t\\t\\t# Simple Network Paging Protocol\\nmicrosoft-ds\\t445/tcp\\t\\t\\t\\t# Microsoft Naked CIFS\\nmicrosoft-ds\\t445/udp\\nkpasswd\\t\\t464/tcp\\nkpasswd\\t\\t464/udp\\nsubmissions\\t465/tcp\\t\\tssmtp smtps urd # Submission over TLS [RFC8314]\\nsaft\\t\\t487/tcp\\t\\t\\t# Simple Asynchronous File Transfer\\nisakmp\\t\\t500/udp\\t\\t\\t\\t# IPSEC key management\\nrtsp\\t\\t554/tcp\\t\\t\\t# Real Time Stream Control Protocol\\nrtsp\\t\\t554/udp\\nnqs\\t\\t607/tcp\\t\\t\\t\\t# Network Queuing system\\nasf-rmcp\\t623/udp\\t\\t# ASF Remote Management and Control Protocol\\nqmqp\\t\\t628/tcp\\nipp\\t\\t631/tcp\\t\\t\\t\\t# Internet Printing Protocol\\n#\\n# UNIX specific services\\n#\\nexec\\t\\t512/tcp\\nbiff\\t\\t512/udp\\t\\tcomsat\\nlogin\\t\\t513/tcp\\nwho\\t\\t513/udp\\t\\twhod\\nshell\\t\\t514/tcp\\t\\tcmd syslog\\t# no passwords used\\nsyslog\\t\\t514/udp\\nprinter\\t\\t515/tcp\\t\\tspooler\\t\\t# line printer spooler\\ntalk\\t\\t517/udp\\nntalk\\t\\t518/udp\\nroute\\t\\t520/udp\\t\\trouter routed\\t# RIP\\ngdomap\\t\\t538/tcp\\t\\t\\t\\t# GNUstep distributed objects\\ngdomap\\t\\t538/udp\\nuucp\\t\\t540/tcp\\t\\tuucpd\\t\\t# uucp daemon\\nklogin\\t\\t543/tcp\\t\\t\\t\\t# Kerberized `rlogin' (v5)\\nkshell\\t\\t544/tcp\\t\\tkrcmd\\t\\t# Kerberized `rsh' (v5)\\ndhcpv6-client\\t546/udp\\ndhcpv6-server\\t547/udp\\nafpovertcp\\t548/tcp\\t\\t\\t\\t# AFP over TCP\\nnntps\\t\\t563/tcp\\t\\tsnntp\\t\\t# NNTP over SSL\\nsubmission\\t587/tcp\\t\\t\\t\\t# Submission [RFC4409]\\nldaps\\t\\t636/tcp\\t\\t\\t\\t# LDAP over SSL\\nldaps\\t\\t636/udp\\ntinc\\t\\t655/tcp\\t\\t\\t\\t# tinc control port\\ntinc\\t\\t655/udp\\nsilc\\t\\t706/tcp\\nkerberos-adm\\t749/tcp\\t\\t\\t\\t# Kerberos `kadmin' (v5)\\n#\\ndomain-s\\t853/tcp\\t\\t\\t\\t# DNS over TLS [RFC7858]\\ndomain-s\\t853/udp\\t\\t\\t\\t# DNS over DTLS [RFC8094]\\nrsync\\t\\t873/tcp\\nftps-data\\t989/tcp\\t\\t\\t\\t# FTP over SSL (data)\\nftps\\t\\t990/tcp\\ntelnets\\t\\t992/tcp\\t\\t\\t\\t# Telnet over SSL\\nimaps\\t\\t993/tcp\\t\\t\\t\\t# IMAP over SSL\\npop3s\\t\\t995/tcp\\t\\t\\t\\t# POP-3 over SSL\\n#\\n# From ``Assigned Numbers'':\\n#\\n#> The Registered Ports are not controlled by the IANA and on most systems\\n#> can be used by ordinary user processes or programs executed by ordinary\\n#> users.\\n#\\n#> Ports are used in the TCP [45,106] to name the ends of logical\\n#> connections which carry long term conversations.  For the purpose of\\n#> providing services to unknown callers, a service contact port is\\n#> defined.  This list specifies the port used by the server process as its\\n#> contact port.  While the IANA can not control uses of these ports it\\n#> does register or list uses of these ports as a convienence to the\\n#> community.\\n#\\nsocks\\t\\t1080/tcp\\t\\t\\t# socks proxy server\\nproofd\\t\\t1093/tcp\\nrootd\\t\\t1094/tcp\\nopenvpn\\t\\t1194/tcp\\nopenvpn\\t\\t1194/udp\\nrmiregistry\\t1099/tcp\\t\\t\\t# Java RMI Registry\\nlotusnote\\t1352/tcp\\tlotusnotes\\t# Lotus Note\\nms-sql-s\\t1433/tcp\\t\\t\\t# Microsoft SQL Server\\nms-sql-s\\t1433/udp\\nms-sql-m\\t1434/tcp\\t\\t\\t# Microsoft SQL Monitor\\nms-sql-m\\t1434/udp\\ningreslock\\t1524/tcp\\ndatametrics\\t1645/tcp\\told-radius\\ndatametrics\\t1645/udp\\told-radius\\nsa-msg-port\\t1646/tcp\\told-radacct\\nsa-msg-port\\t1646/udp\\told-radacct\\nkermit\\t\\t1649/tcp\\ngroupwise\\t1677/tcp\\nl2f\\t\\t1701/udp\\tl2tp\\nradius\\t\\t1812/tcp\\nradius\\t\\t1812/udp\\nradius-acct\\t1813/tcp\\tradacct\\t\\t# Radius Accounting\\nradius-acct\\t1813/udp\\tradacct\\ncisco-sccp\\t2000/tcp\\t\\t\\t# Cisco SCCP\\nnfs\\t\\t2049/tcp\\t\\t\\t# Network File System\\nnfs\\t\\t2049/udp\\t\\t\\t# Network File System\\ngnunet\\t\\t2086/tcp\\ngnunet\\t\\t2086/udp\\nrtcm-sc104\\t2101/tcp\\t\\t\\t# RTCM SC-104 IANA 1/29/99\\nrtcm-sc104\\t2101/udp\\ngsigatekeeper\\t2119/tcp\\ngris\\t\\t2135/tcp\\t\\t# Grid Resource Information Server\\ncvspserver\\t2401/tcp\\t\\t\\t# CVS client/server operations\\nvenus\\t\\t2430/tcp\\t\\t\\t# codacon port\\nvenus\\t\\t2430/udp\\t\\t\\t# Venus callback/wbc interface\\nvenus-se\\t2431/tcp\\t\\t\\t# tcp side effects\\nvenus-se\\t2431/udp\\t\\t\\t# udp sftp side effect\\ncodasrv\\t\\t2432/tcp\\t\\t\\t# not used\\ncodasrv\\t\\t2432/udp\\t\\t\\t# server port\\ncodasrv-se\\t2433/tcp\\t\\t\\t# tcp side effects\\ncodasrv-se\\t2433/udp\\t\\t\\t# udp sftp side effect\\nmon\\t\\t2583/tcp\\t\\t\\t# MON traps\\nmon\\t\\t2583/udp\\ndict\\t\\t2628/tcp\\t\\t\\t# Dictionary server\\nf5-globalsite\\t2792/tcp\\ngsiftp\\t\\t2811/tcp\\ngpsd\\t\\t2947/tcp\\ngds-db\\t\\t3050/tcp\\tgds_db\\t\\t# InterBase server\\nicpv2\\t\\t3130/tcp\\ticp\\t\\t# Internet Cache Protocol\\nicpv2\\t\\t3130/udp\\ticp\\nisns\\t\\t3205/tcp\\t\\t\\t# iSNS Server Port\\nisns\\t\\t3205/udp\\t\\t\\t# iSNS Server Port\\niscsi-target\\t3260/tcp\\nmysql\\t\\t3306/tcp\\nms-wbt-server\\t3389/tcp\\nnut\\t\\t3493/tcp\\t\\t\\t# Network UPS Tools\\nnut\\t\\t3493/udp\\ndistcc\\t\\t3632/tcp\\t\\t\\t# distributed compiler\\ndistcc\\t\\t3632/udp\\ndaap\\t\\t3689/tcp\\t\\t\\t# Digital Audio Access Protocol\\ndaap\\t\\t3689/udp\\nsvn\\t\\t3690/tcp\\tsubversion\\t# Subversion protocol\\nsvn\\t\\t3690/udp\\tsubversion\\nsuucp\\t\\t4031/tcp\\t\\t\\t# UUCP over SSL\\nsuucp\\t\\t4031/udp\\nsysrqd\\t\\t4094/tcp\\t\\t\\t# sysrq daemon\\nsysrqd\\t\\t4094/udp\\nsieve\\t\\t4190/tcp\\t\\t\\t# ManageSieve Protocol\\nepmd\\t\\t4369/tcp\\t\\t\\t# Erlang Port Mapper Daemon\\nepmd\\t\\t4369/udp\\nremctl\\t\\t4373/tcp\\t\\t# Remote Authenticated Command Service\\nremctl\\t\\t4373/udp\\nf5-iquery\\t4353/tcp\\t\\t\\t# F5 iQuery\\nf5-iquery\\t4353/udp\\nipsec-nat-t\\t4500/udp\\t\\t\\t# IPsec NAT-Traversal [RFC3947]\\niax\\t\\t4569/tcp\\t\\t\\t# Inter-Asterisk eXchange\\niax\\t\\t4569/udp\\nmtn\\t\\t4691/tcp\\t\\t\\t# monotone Netsync Protocol\\nmtn\\t\\t4691/udp\\nradmin-port\\t4899/tcp\\t\\t\\t# RAdmin Port\\nradmin-port\\t4899/udp\\nsip\\t\\t5060/tcp\\t\\t\\t# Session Initiation Protocol\\nsip\\t\\t5060/udp\\nsip-tls\\t\\t5061/tcp\\nsip-tls\\t\\t5061/udp\\nxmpp-client\\t5222/tcp\\tjabber-client\\t# Jabber Client Connection\\nxmpp-server\\t5269/tcp\\tjabber-server\\t# Jabber Server Connection\\ncfengine\\t5308/tcp\\nmdns\\t\\t5353/udp\\t\\t\\t# Multicast DNS\\npostgresql\\t5432/tcp\\tpostgres\\t# PostgreSQL Database\\nfreeciv\\t\\t5556/tcp\\trptp\\t\\t# Freeciv gameplay\\namqps\\t\\t5671/tcp\\t\\t\\t# AMQP protocol over TLS/SSL\\namqp\\t\\t5672/tcp\\namqp\\t\\t5672/udp\\namqp\\t\\t5672/sctp\\nx11\\t\\t6000/tcp\\tx11-0\\t\\t# X Window System\\nx11-1\\t\\t6001/tcp\\nx11-2\\t\\t6002/tcp\\nx11-3\\t\\t6003/tcp\\nx11-4\\t\\t6004/tcp\\nx11-5\\t\\t6005/tcp\\nx11-6\\t\\t6006/tcp\\nx11-7\\t\\t6007/tcp\\ngnutella-svc\\t6346/tcp\\t\\t\\t# gnutella\\ngnutella-svc\\t6346/udp\\ngnutella-rtr\\t6347/tcp\\t\\t\\t# gnutella\\ngnutella-rtr\\t6347/udp\\nsge-qmaster\\t6444/tcp\\tsge_qmaster\\t# Grid Engine Qmaster Service\\nsge-execd\\t6445/tcp\\tsge_execd\\t# Grid Engine Execution Service\\nmysql-proxy\\t6446/tcp\\t\\t\\t# MySQL Proxy\\nbabel\\t\\t6696/udp\\t\\t\\t# Babel Routing Protocol\\nircs-u\\t\\t6697/tcp\\t\\t# Internet Relay Chat via TLS/SSL\\nafs3-fileserver 7000/tcp\\tbbs\\t\\t# file server itself\\nafs3-fileserver 7000/udp\\tbbs\\nafs3-callback\\t7001/tcp\\t\\t\\t# callbacks to cache managers\\nafs3-callback\\t7001/udp\\nafs3-prserver\\t7002/tcp\\t\\t\\t# users & groups database\\nafs3-prserver\\t7002/udp\\nafs3-vlserver\\t7003/tcp\\t\\t\\t# volume location database\\nafs3-vlserver\\t7003/udp\\nafs3-kaserver\\t7004/tcp\\t\\t\\t# AFS/Kerberos authentication\\nafs3-kaserver\\t7004/udp\\nafs3-volser\\t7005/tcp\\t\\t\\t# volume managment server\\nafs3-volser\\t7005/udp\\nafs3-errors\\t7006/tcp\\t\\t\\t# error interpretation service\\nafs3-errors\\t7006/udp\\nafs3-bos\\t7007/tcp\\t\\t\\t# basic overseer process\\nafs3-bos\\t7007/udp\\nafs3-update\\t7008/tcp\\t\\t\\t# server-to-server updater\\nafs3-update\\t7008/udp\\nafs3-rmtsys\\t7009/tcp\\t\\t\\t# remote cache manager service\\nafs3-rmtsys\\t7009/udp\\nfont-service\\t7100/tcp\\txfs\\t\\t# X Font Service\\nhttp-alt\\t8080/tcp\\twebcache\\t# WWW caching service\\npuppet\\t\\t8140/tcp\\t\\t\\t# The Puppet master service\\nbacula-dir\\t9101/tcp\\t\\t\\t# Bacula Director\\nbacula-fd\\t9102/tcp\\t\\t\\t# Bacula File Daemon\\nbacula-sd\\t9103/tcp\\t\\t\\t# Bacula Storage Daemon\\nxmms2\\t\\t9667/tcp\\t# Cross-platform Music Multiplexing System\\nnbd\\t\\t10809/tcp\\t\\t\\t# Linux Network Block Device\\nzabbix-agent\\t10050/tcp\\t\\t\\t# Zabbix Agent\\nzabbix-trapper\\t10051/tcp\\t\\t\\t# Zabbix Trapper\\namanda\\t\\t10080/tcp\\t\\t\\t# amanda backup services\\ndicom\\t\\t11112/tcp\\nhkp\\t\\t11371/tcp\\t\\t\\t# OpenPGP HTTP Keyserver\\ndb-lsp\\t\\t17500/tcp\\t\\t\\t# Dropbox LanSync Protocol\\ndcap\\t\\t22125/tcp\\t\\t\\t# dCache Access Protocol\\ngsidcap\\t\\t22128/tcp\\t\\t\\t# GSI dCache Access Protocol\\nwnn6\\t\\t22273/tcp\\t\\t\\t# wnn6\\n\\n#\\n# Datagram Delivery Protocol services\\n#\\nrtmp\\t\\t1/ddp\\t\\t\\t# Routing Table Maintenance Protocol\\nnbp\\t\\t2/ddp\\t\\t\\t# Name Binding Protocol\\necho\\t\\t4/ddp\\t\\t\\t# AppleTalk Echo Protocol\\nzip\\t\\t6/ddp\\t\\t\\t# Zone Information Protocol\\n\\n#=========================================================================\\n# The remaining port numbers are not as allocated by IANA.\\n#=========================================================================\\n\\n# Kerberos (Project Athena/MIT) services\\nkerberos4\\t750/udp\\t\\tkerberos-iv kdc\\t# Kerberos (server)\\nkerberos4\\t750/tcp\\t\\tkerberos-iv kdc\\nkerberos-master\\t751/udp\\t\\tkerberos_master\\t# Kerberos authentication\\nkerberos-master\\t751/tcp\\npasswd-server\\t752/udp\\t\\tpasswd_server\\t# Kerberos passwd server\\nkrb-prop\\t754/tcp\\t\\tkrb_prop krb5_prop hprop # Kerberos slave propagation\\nzephyr-srv\\t2102/udp\\t\\t\\t# Zephyr server\\nzephyr-clt\\t2103/udp\\t\\t\\t# Zephyr serv-hm connection\\nzephyr-hm\\t2104/udp\\t\\t\\t# Zephyr hostmanager\\niprop\\t\\t2121/tcp\\t\\t\\t# incremental propagation\\nsupfilesrv\\t871/tcp\\t\\t\\t# Software Upgrade Protocol server\\nsupfiledbg\\t1127/tcp\\t\\t# Software Upgrade Protocol debugging\\n\\n#\\n# Services added for the Debian GNU/Linux distribution\\n#\\npoppassd\\t106/tcp\\t\\t\\t\\t# Eudora\\npoppassd\\t106/udp\\nmoira-db\\t775/tcp\\t\\tmoira_db\\t# Moira database\\nmoira-update\\t777/tcp\\t\\tmoira_update\\t# Moira update protocol\\nmoira-ureg\\t779/udp\\t\\tmoira_ureg\\t# Moira user registration\\nspamd\\t\\t783/tcp\\t\\t\\t\\t# spamassassin daemon\\nskkserv\\t\\t1178/tcp\\t\\t\\t# skk jisho server port\\npredict\\t\\t1210/udp\\t\\t\\t# predict -- satellite tracking\\nrmtcfg\\t\\t1236/tcp\\t\\t\\t# Gracilis Packeten remote config server\\nxtel\\t\\t1313/tcp\\t\\t\\t# french minitel\\nxtelw\\t\\t1314/tcp\\t\\t\\t# french minitel\\nsupport\\t\\t1529/tcp\\t\\t\\t# GNATS\\ncfinger\\t\\t2003/tcp\\t\\t\\t# GNU Finger\\nfrox\\t\\t2121/tcp\\t\\t\\t# frox: caching ftp proxy\\nzebrasrv\\t2600/tcp\\t\\t\\t# zebra service\\nzebra\\t\\t2601/tcp\\t\\t\\t# zebra vty\\nripd\\t\\t2602/tcp\\t\\t\\t# ripd vty (zebra)\\nripngd\\t\\t2603/tcp\\t\\t\\t# ripngd vty (zebra)\\nospfd\\t\\t2604/tcp\\t\\t\\t# ospfd vty (zebra)\\nbgpd\\t\\t2605/tcp\\t\\t\\t# bgpd vty (zebra)\\nospf6d\\t\\t2606/tcp\\t\\t\\t# ospf6d vty (zebra)\\nospfapi\\t\\t2607/tcp\\t\\t\\t# OSPF-API\\nisisd\\t\\t2608/tcp\\t\\t\\t# ISISd vty (zebra)\\nafbackup\\t2988/tcp\\t\\t\\t# Afbackup system\\nafbackup\\t2988/udp\\nafmbackup\\t2989/tcp\\t\\t\\t# Afmbackup system\\nafmbackup\\t2989/udp\\nfax\\t\\t4557/tcp\\t\\t\\t# FAX transmission service (old)\\nhylafax\\t\\t4559/tcp\\t\\t\\t# HylaFAX client-server protocol (new)\\ndistmp3\\t\\t4600/tcp\\t\\t\\t# distmp3host daemon\\nmunin\\t\\t4949/tcp\\tlrrd\\t\\t# Munin\\nenbd-cstatd\\t5051/tcp\\t\\t\\t# ENBD client statd\\nenbd-sstatd\\t5052/tcp\\t\\t\\t# ENBD server statd\\npcrd\\t\\t5151/tcp\\t\\t\\t# PCR-1000 Daemon\\nnoclog\\t\\t5354/tcp\\t\\t\\t# noclogd with TCP (nocol)\\nnoclog\\t\\t5354/udp\\t\\t\\t# noclogd with UDP (nocol)\\nhostmon\\t\\t5355/tcp\\t\\t\\t# hostmon uses TCP (nocol)\\nhostmon\\t\\t5355/udp\\t\\t\\t# hostmon uses UDP (nocol)\\nrplay\\t\\t5555/udp\\t\\t\\t# RPlay audio service\\nnrpe\\t\\t5666/tcp\\t\\t\\t# Nagios Remote Plugin Executor\\nnsca\\t\\t5667/tcp\\t\\t\\t# Nagios Agent - NSCA\\nmrtd\\t\\t5674/tcp\\t\\t\\t# MRT Routing Daemon\\nbgpsim\\t\\t5675/tcp\\t\\t\\t# MRT Routing Simulator\\ncanna\\t\\t5680/tcp\\t\\t\\t# cannaserver\\nsyslog-tls\\t6514/tcp\\t\\t\\t# Syslog over TLS [RFC5425]\\nsane-port\\t6566/tcp\\tsane saned\\t# SANE network scanner daemon\\nircd\\t\\t6667/tcp\\t\\t\\t# Internet Relay Chat\\nzope-ftp\\t8021/tcp\\t\\t\\t# zope management by ftp\\ntproxy\\t\\t8081/tcp\\t\\t\\t# Transparent Proxy\\nomniorb\\t\\t8088/tcp\\t\\t\\t# OmniORB\\nomniorb\\t\\t8088/udp\\nclc-build-daemon 8990/tcp\\t\\t\\t# Common lisp build daemon\\nxinetd\\t\\t9098/tcp\\nmandelspawn\\t9359/udp\\tmandelbrot\\t# network mandelbrot\\ngit\\t\\t9418/tcp\\t\\t\\t# Git Version Control System\\nzope\\t\\t9673/tcp\\t\\t\\t# zope server\\nwebmin\\t\\t10000/tcp\\nkamanda\\t\\t10081/tcp\\t\\t\\t# amanda backup services (Kerberos)\\namandaidx\\t10082/tcp\\t\\t\\t# amanda backup services\\namidxtape\\t10083/tcp\\t\\t\\t# amanda backup services\\nsmsqp\\t\\t11201/tcp\\t\\t\\t# Alamin SMS gateway\\nsmsqp\\t\\t11201/udp\\nxpilot\\t\\t15345/tcp\\t\\t\\t# XPilot Contact Port\\nxpilot\\t\\t15345/udp\\nsgi-cmsd\\t17001/udp\\t\\t# Cluster membership services daemon\\nsgi-crsd\\t17002/udp\\nsgi-gcd\\t\\t17003/udp\\t\\t\\t# SGI Group membership daemon\\nsgi-cad\\t\\t17004/tcp\\t\\t\\t# Cluster Admin daemon\\nisdnlog\\t\\t20011/tcp\\t\\t\\t# isdn logging system\\nisdnlog\\t\\t20011/udp\\nvboxd\\t\\t20012/tcp\\t\\t\\t# voice box system\\nvboxd\\t\\t20012/udp\\nbinkp\\t\\t24554/tcp\\t\\t\\t# binkp fidonet protocol\\nasp\\t\\t27374/tcp\\t\\t\\t# Address Search Protocol\\nasp\\t\\t27374/udp\\ncsync2\\t\\t30865/tcp\\t\\t\\t# cluster synchronization tool\\ndircproxy\\t57000/tcp\\t\\t\\t# Detachable IRC Proxy\\ntfido\\t\\t60177/tcp\\t\\t\\t# fidonet EMSI over telnet\\nfido\\t\\t60179/tcp\\t\\t\\t# fidonet EMSI over TCP\\n\\n# Local services\\n\""
      ]
     },
     "execution_count": 17,
     "metadata": {},
     "output_type": "execute_result"
    }
   ],
   "source": [
    "port_info"
   ]
  },
  {
   "cell_type": "code",
   "execution_count": 9,
   "metadata": {},
   "outputs": [
    {
     "data": {
      "text/plain": [
       "['Port 1 test successful!',\n",
       " 'Port 2 test successful!',\n",
       " 'Port 3 test successful!',\n",
       " 'Port 4 test successful!',\n",
       " 'Port 5 test successful!',\n",
       " 'Port 6 test successful!',\n",
       " 'Port 7 test successful!',\n",
       " 'Port 8 test successful!',\n",
       " 'Port 9 test successful!',\n",
       " 'Port 10 test successful!',\n",
       " 'Port 11 test successful!',\n",
       " 'Port 12 test successful!',\n",
       " 'Port 13 test successful!',\n",
       " 'Port 14 test successful!',\n",
       " 'Port 15 test successful!',\n",
       " 'Port 16 test successful!',\n",
       " 'Port 17 test successful!',\n",
       " 'Port 18 test successful!',\n",
       " 'Port 19 test successful!',\n",
       " 'Port 20 test successful!',\n",
       " 'Port 21 test successful!',\n",
       " 'Port 22 test successful!',\n",
       " 'Port 23 test successful!',\n",
       " 'Port 24 test successful!',\n",
       " 'Port 25 test successful!',\n",
       " 'Port 26 test successful!',\n",
       " 'Port 27 test successful!',\n",
       " 'Port 28 test successful!',\n",
       " 'Port 29 test successful!',\n",
       " 'Port 30 test successful!',\n",
       " 'Port 31 test successful!',\n",
       " 'Port 32 test successful!',\n",
       " 'Port 33 test successful!',\n",
       " 'Port 34 test successful!',\n",
       " 'Port 35 test successful!',\n",
       " 'Port 36 test successful!',\n",
       " 'Port 37 test successful!',\n",
       " 'Port 38 test successful!',\n",
       " 'Port 39 test successful!',\n",
       " 'Port 40 test successful!',\n",
       " 'Port 41 test successful!',\n",
       " 'Port 42 test successful!',\n",
       " 'Port 43 test successful!',\n",
       " 'Port 44 test successful!',\n",
       " 'Port 45 test successful!',\n",
       " 'Port 46 test successful!',\n",
       " 'Port 47 test successful!',\n",
       " 'Port 48 test successful!',\n",
       " 'Port 49 test successful!',\n",
       " 'Port 50 test successful!',\n",
       " 'Port 51 test successful!',\n",
       " 'Port 52 test successful!',\n",
       " 'Port 53 test successful!',\n",
       " 'Port 54 test successful!',\n",
       " 'Port 55 test successful!',\n",
       " 'Port 56 test successful!',\n",
       " 'Port 57 test successful!',\n",
       " 'Port 58 test successful!',\n",
       " 'Port 59 test successful!',\n",
       " 'Port 60 test successful!',\n",
       " 'Port 61 test successful!',\n",
       " 'Port 62 test successful!',\n",
       " 'Port 63 test successful!',\n",
       " 'Port 64 test successful!',\n",
       " 'Port 65 test successful!',\n",
       " 'Port 66 test successful!',\n",
       " 'Port 67 test successful!',\n",
       " 'Port 68 test successful!',\n",
       " 'Port 69 test successful!',\n",
       " 'Port 70 test successful!',\n",
       " 'Port 71 test successful!',\n",
       " 'Port 72 test successful!',\n",
       " 'Port 73 test successful!',\n",
       " 'Port 74 test successful!',\n",
       " 'Port 75 test successful!',\n",
       " 'Port 76 test successful!',\n",
       " 'Port 77 test successful!',\n",
       " 'Port 78 test successful!',\n",
       " 'Port 79 test successful!',\n",
       " 'Port 80 test successful!',\n",
       " 'Port 81 test successful!',\n",
       " 'Port 82 test successful!',\n",
       " 'Port 83 test successful!',\n",
       " 'Port 84 test successful!',\n",
       " 'Port 85 test successful!',\n",
       " 'Port 86 test successful!',\n",
       " 'Port 87 test successful!',\n",
       " 'Port 88 test successful!',\n",
       " 'Port 89 test successful!',\n",
       " 'Port 90 test successful!',\n",
       " 'Port 91 test successful!',\n",
       " 'Port 92 test successful!',\n",
       " 'Port 93 test successful!',\n",
       " 'Port 94 test successful!',\n",
       " 'Port 95 test successful!',\n",
       " 'Port 96 test successful!',\n",
       " 'Port 97 test successful!',\n",
       " 'Port 98 test successful!',\n",
       " 'Port 99 test successful!']"
      ]
     },
     "execution_count": 9,
     "metadata": {},
     "output_type": "execute_result"
    }
   ],
   "source": [
    "data"
   ]
  },
  {
   "cell_type": "code",
   "execution_count": 10,
   "metadata": {},
   "outputs": [],
   "source": [
    "df = pd.DataFrame(data)"
   ]
  },
  {
   "cell_type": "code",
   "execution_count": 14,
   "metadata": {},
   "outputs": [
    {
     "data": {
      "text/html": [
       "<div>\n",
       "<style scoped>\n",
       "    .dataframe tbody tr th:only-of-type {\n",
       "        vertical-align: middle;\n",
       "    }\n",
       "\n",
       "    .dataframe tbody tr th {\n",
       "        vertical-align: top;\n",
       "    }\n",
       "\n",
       "    .dataframe thead th {\n",
       "        text-align: right;\n",
       "    }\n",
       "</style>\n",
       "<table border=\"1\" class=\"dataframe\">\n",
       "  <thead>\n",
       "    <tr style=\"text-align: right;\">\n",
       "      <th></th>\n",
       "      <th>0</th>\n",
       "    </tr>\n",
       "  </thead>\n",
       "  <tbody>\n",
       "    <tr>\n",
       "      <th>0</th>\n",
       "      <td>Port 1 test successful!</td>\n",
       "    </tr>\n",
       "    <tr>\n",
       "      <th>1</th>\n",
       "      <td>Port 2 test successful!</td>\n",
       "    </tr>\n",
       "    <tr>\n",
       "      <th>2</th>\n",
       "      <td>Port 3 test successful!</td>\n",
       "    </tr>\n",
       "    <tr>\n",
       "      <th>3</th>\n",
       "      <td>Port 4 test successful!</td>\n",
       "    </tr>\n",
       "    <tr>\n",
       "      <th>4</th>\n",
       "      <td>Port 5 test successful!</td>\n",
       "    </tr>\n",
       "    <tr>\n",
       "      <th>...</th>\n",
       "      <td>...</td>\n",
       "    </tr>\n",
       "    <tr>\n",
       "      <th>94</th>\n",
       "      <td>Port 95 test successful!</td>\n",
       "    </tr>\n",
       "    <tr>\n",
       "      <th>95</th>\n",
       "      <td>Port 96 test successful!</td>\n",
       "    </tr>\n",
       "    <tr>\n",
       "      <th>96</th>\n",
       "      <td>Port 97 test successful!</td>\n",
       "    </tr>\n",
       "    <tr>\n",
       "      <th>97</th>\n",
       "      <td>Port 98 test successful!</td>\n",
       "    </tr>\n",
       "    <tr>\n",
       "      <th>98</th>\n",
       "      <td>Port 99 test successful!</td>\n",
       "    </tr>\n",
       "  </tbody>\n",
       "</table>\n",
       "<p>99 rows × 1 columns</p>\n",
       "</div>"
      ],
      "text/plain": [
       "                           0\n",
       "0    Port 1 test successful!\n",
       "1    Port 2 test successful!\n",
       "2    Port 3 test successful!\n",
       "3    Port 4 test successful!\n",
       "4    Port 5 test successful!\n",
       "..                       ...\n",
       "94  Port 95 test successful!\n",
       "95  Port 96 test successful!\n",
       "96  Port 97 test successful!\n",
       "97  Port 98 test successful!\n",
       "98  Port 99 test successful!\n",
       "\n",
       "[99 rows x 1 columns]"
      ]
     },
     "execution_count": 14,
     "metadata": {},
     "output_type": "execute_result"
    }
   ],
   "source": [
    "df"
   ]
  },
  {
   "cell_type": "code",
   "execution_count": null,
   "metadata": {},
   "outputs": [],
   "source": []
  }
 ],
 "metadata": {
  "kernelspec": {
   "display_name": "Python 3",
   "language": "python",
   "name": "python3"
  },
  "language_info": {
   "codemirror_mode": {
    "name": "ipython",
    "version": 3
   },
   "file_extension": ".py",
   "mimetype": "text/x-python",
   "name": "python",
   "nbconvert_exporter": "python",
   "pygments_lexer": "ipython3",
   "version": "3.8.5"
  }
 },
 "nbformat": 4,
 "nbformat_minor": 4
}
